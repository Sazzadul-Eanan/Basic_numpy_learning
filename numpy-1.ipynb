{
 "cells": [
  {
   "cell_type": "markdown",
   "id": "06febebb",
   "metadata": {},
   "source": [
    "# Importing 'numpy' package"
   ]
  },
  {
   "cell_type": "code",
   "execution_count": 1,
   "id": "554efd1c",
   "metadata": {},
   "outputs": [],
   "source": [
    "import numpy as np"
   ]
  },
  {
   "cell_type": "markdown",
   "id": "dceb61e9",
   "metadata": {},
   "source": [
    "# Array Attributes"
   ]
  },
  {
   "cell_type": "code",
   "execution_count": 2,
   "id": "eaa887fc",
   "metadata": {},
   "outputs": [],
   "source": [
    "arr = np.array([1, 2, 3, 4])      # creating a 1-D array (1-D arrays are called VECTOR) (D=dimension)"
   ]
  },
  {
   "cell_type": "code",
   "execution_count": 3,
   "id": "3bb9ef38",
   "metadata": {},
   "outputs": [
    {
     "data": {
      "text/plain": [
       "array([1, 2, 3, 4])"
      ]
     },
     "execution_count": 3,
     "metadata": {},
     "output_type": "execute_result"
    }
   ],
   "source": [
    "arr                               # accessing the array"
   ]
  },
  {
   "cell_type": "code",
   "execution_count": 4,
   "id": "b7f06e37",
   "metadata": {},
   "outputs": [
    {
     "data": {
      "text/plain": [
       "numpy.ndarray"
      ]
     },
     "execution_count": 4,
     "metadata": {},
     "output_type": "execute_result"
    }
   ],
   "source": [
    "type(arr)                         # checking the array type"
   ]
  },
  {
   "cell_type": "code",
   "execution_count": 5,
   "id": "0d3649b7",
   "metadata": {},
   "outputs": [
    {
     "data": {
      "text/plain": [
       "dtype('int32')"
      ]
     },
     "execution_count": 5,
     "metadata": {},
     "output_type": "execute_result"
    }
   ],
   "source": [
    "arr.dtype                         # checking the array data type"
   ]
  },
  {
   "cell_type": "code",
   "execution_count": 6,
   "id": "478aa3af",
   "metadata": {},
   "outputs": [
    {
     "data": {
      "text/plain": [
       "4"
      ]
     },
     "execution_count": 6,
     "metadata": {},
     "output_type": "execute_result"
    }
   ],
   "source": [
    "arr.size                          # checking the total number of elements in the array"
   ]
  },
  {
   "cell_type": "code",
   "execution_count": 7,
   "id": "728dc5bb",
   "metadata": {},
   "outputs": [
    {
     "data": {
      "text/plain": [
       "(4,)"
      ]
     },
     "execution_count": 7,
     "metadata": {},
     "output_type": "execute_result"
    }
   ],
   "source": [
    "arr.shape                         # checkhing the array shape"
   ]
  },
  {
   "cell_type": "code",
   "execution_count": 8,
   "id": "d22ae62b",
   "metadata": {},
   "outputs": [
    {
     "data": {
      "text/plain": [
       "1"
      ]
     },
     "execution_count": 8,
     "metadata": {},
     "output_type": "execute_result"
    }
   ],
   "source": [
    "arr.ndim                          # checking the array dimension"
   ]
  },
  {
   "cell_type": "markdown",
   "id": "81572705",
   "metadata": {},
   "source": [
    "## Array more than 1-D (like the 2-D and 3-D) is called MATRIX"
   ]
  },
  {
   "cell_type": "code",
   "execution_count": 9,
   "id": "e0d3d735",
   "metadata": {},
   "outputs": [],
   "source": [
    "brr = np.array([[1, 2, 3],[4, 5.8, 6]])         # creating a 2-D array"
   ]
  },
  {
   "cell_type": "code",
   "execution_count": 10,
   "id": "6454d687",
   "metadata": {},
   "outputs": [
    {
     "data": {
      "text/plain": [
       "array([[1. , 2. , 3. ],\n",
       "       [4. , 5.8, 6. ]])"
      ]
     },
     "execution_count": 10,
     "metadata": {},
     "output_type": "execute_result"
    }
   ],
   "source": [
    "brr                                            "
   ]
  },
  {
   "cell_type": "code",
   "execution_count": 11,
   "id": "0a5ae0d9",
   "metadata": {},
   "outputs": [
    {
     "data": {
      "text/plain": [
       "dtype('float64')"
      ]
     },
     "execution_count": 11,
     "metadata": {},
     "output_type": "execute_result"
    }
   ],
   "source": [
    "brr.dtype                      "
   ]
  },
  {
   "cell_type": "code",
   "execution_count": 12,
   "id": "a381bc74",
   "metadata": {},
   "outputs": [
    {
     "data": {
      "text/plain": [
       "6"
      ]
     },
     "execution_count": 12,
     "metadata": {},
     "output_type": "execute_result"
    }
   ],
   "source": [
    "brr.size"
   ]
  },
  {
   "cell_type": "code",
   "execution_count": 13,
   "id": "5e75fce2",
   "metadata": {},
   "outputs": [
    {
     "data": {
      "text/plain": [
       "(2, 3)"
      ]
     },
     "execution_count": 13,
     "metadata": {},
     "output_type": "execute_result"
    }
   ],
   "source": [
    "brr.shape"
   ]
  },
  {
   "cell_type": "code",
   "execution_count": 14,
   "id": "92e6cdfd",
   "metadata": {},
   "outputs": [
    {
     "data": {
      "text/plain": [
       "2"
      ]
     },
     "execution_count": 14,
     "metadata": {},
     "output_type": "execute_result"
    }
   ],
   "source": [
    "brr.ndim"
   ]
  },
  {
   "cell_type": "code",
   "execution_count": 15,
   "id": "f8bf77a2",
   "metadata": {},
   "outputs": [],
   "source": [
    "crr = np.array([[[1, 2, 3, 4],                   # creating a 3-D array\n",
    "                  [5, 6, 7, 8], \n",
    "                  [9, 10, 11, 12]]])       "
   ]
  },
  {
   "cell_type": "code",
   "execution_count": 16,
   "id": "248232fa",
   "metadata": {},
   "outputs": [
    {
     "name": "stdout",
     "output_type": "stream",
     "text": [
      "[[[ 1  2  3  4]\n",
      "  [ 5  6  7  8]\n",
      "  [ 9 10 11 12]]]\n"
     ]
    }
   ],
   "source": [
    "print(crr)                                       # printing the array "
   ]
  },
  {
   "cell_type": "code",
   "execution_count": 17,
   "id": "d3e1abd3",
   "metadata": {},
   "outputs": [
    {
     "data": {
      "text/plain": [
       "(1, 3, 4)"
      ]
     },
     "execution_count": 17,
     "metadata": {},
     "output_type": "execute_result"
    }
   ],
   "source": [
    "crr.shape                                   "
   ]
  },
  {
   "cell_type": "code",
   "execution_count": 18,
   "id": "c25922db",
   "metadata": {},
   "outputs": [
    {
     "data": {
      "text/plain": [
       "3"
      ]
     },
     "execution_count": 18,
     "metadata": {},
     "output_type": "execute_result"
    }
   ],
   "source": [
    "crr.ndim                                   "
   ]
  },
  {
   "cell_type": "code",
   "execution_count": 19,
   "id": "e81c8f64",
   "metadata": {},
   "outputs": [
    {
     "data": {
      "text/plain": [
       "12"
      ]
     },
     "execution_count": 19,
     "metadata": {},
     "output_type": "execute_result"
    }
   ],
   "source": [
    "crr.size                                  "
   ]
  },
  {
   "cell_type": "markdown",
   "id": "27d38f3f",
   "metadata": {},
   "source": [
    "# Array Creation"
   ]
  },
  {
   "cell_type": "code",
   "execution_count": 20,
   "id": "7a58c05e",
   "metadata": {},
   "outputs": [],
   "source": [
    "array1 = np.array([1, 2, 3], dtype = 'int')          # 'dtype' for specifying the data type"
   ]
  },
  {
   "cell_type": "code",
   "execution_count": 21,
   "id": "28e9d268",
   "metadata": {},
   "outputs": [
    {
     "data": {
      "text/plain": [
       "array([1, 2, 3])"
      ]
     },
     "execution_count": 21,
     "metadata": {},
     "output_type": "execute_result"
    }
   ],
   "source": [
    "array1                                               # accessing the array"
   ]
  },
  {
   "cell_type": "code",
   "execution_count": 22,
   "id": "b9b77010",
   "metadata": {},
   "outputs": [],
   "source": [
    "array2 = np.zeros((2,3), dtype = 'int')\n",
    " # to see any built-in array's properties (like the properties of \n",
    "                                     #'zeros') press 'shift+tab' after typing 'np.zeros()'"
   ]
  },
  {
   "cell_type": "code",
   "execution_count": 23,
   "id": "40766f79",
   "metadata": {},
   "outputs": [
    {
     "data": {
      "text/plain": [
       "array([[0, 0, 0],\n",
       "       [0, 0, 0]])"
      ]
     },
     "execution_count": 23,
     "metadata": {},
     "output_type": "execute_result"
    }
   ],
   "source": [
    "array2"
   ]
  },
  {
   "cell_type": "code",
   "execution_count": 24,
   "id": "c65cb4ca",
   "metadata": {},
   "outputs": [],
   "source": [
    "array3 = np.ones((3,3), dtype = 'float')"
   ]
  },
  {
   "cell_type": "code",
   "execution_count": 25,
   "id": "451d7973",
   "metadata": {},
   "outputs": [
    {
     "data": {
      "text/plain": [
       "array([[1., 1., 1.],\n",
       "       [1., 1., 1.],\n",
       "       [1., 1., 1.]])"
      ]
     },
     "execution_count": 25,
     "metadata": {},
     "output_type": "execute_result"
    }
   ],
   "source": [
    "array3"
   ]
  },
  {
   "cell_type": "code",
   "execution_count": 26,
   "id": "2c4472f9",
   "metadata": {},
   "outputs": [],
   "source": [
    "array4 = np.full((2,3), 5)               # a 2 x 3 matrix constructed with the number 5 only"
   ]
  },
  {
   "cell_type": "code",
   "execution_count": 27,
   "id": "71202325",
   "metadata": {},
   "outputs": [
    {
     "data": {
      "text/plain": [
       "array([[5, 5, 5],\n",
       "       [5, 5, 5]])"
      ]
     },
     "execution_count": 27,
     "metadata": {},
     "output_type": "execute_result"
    }
   ],
   "source": [
    "array4"
   ]
  },
  {
   "cell_type": "code",
   "execution_count": 28,
   "id": "735749f0",
   "metadata": {},
   "outputs": [],
   "source": [
    "array5 = np.identity((4), dtype = 'int') # Identity matrix: a matrix with equal no. of row and column "
   ]
  },
  {
   "cell_type": "code",
   "execution_count": 29,
   "id": "f9ec8a36",
   "metadata": {},
   "outputs": [
    {
     "data": {
      "text/plain": [
       "array([[1, 0, 0, 0],\n",
       "       [0, 1, 0, 0],\n",
       "       [0, 0, 1, 0],\n",
       "       [0, 0, 0, 1]])"
      ]
     },
     "execution_count": 29,
     "metadata": {},
     "output_type": "execute_result"
    }
   ],
   "source": [
    "array5"
   ]
  },
  {
   "cell_type": "code",
   "execution_count": 30,
   "id": "e9be47b5",
   "metadata": {},
   "outputs": [],
   "source": [
    "array6 = np.arange(2, 20, 2)             # from 2 to (upto) 20 with a gradual increasing of 2       "
   ]
  },
  {
   "cell_type": "code",
   "execution_count": 31,
   "id": "820052e2",
   "metadata": {},
   "outputs": [
    {
     "data": {
      "text/plain": [
       "array([ 2,  4,  6,  8, 10, 12, 14, 16, 18])"
      ]
     },
     "execution_count": 31,
     "metadata": {},
     "output_type": "execute_result"
    }
   ],
   "source": [
    "array6"
   ]
  },
  {
   "cell_type": "code",
   "execution_count": 32,
   "id": "0ac4dab4",
   "metadata": {},
   "outputs": [],
   "source": [
    "array7 = np.linspace(1, 2, 20)           # creating 20 values within 1 to 2"
   ]
  },
  {
   "cell_type": "code",
   "execution_count": 33,
   "id": "4faa1336",
   "metadata": {},
   "outputs": [
    {
     "data": {
      "text/plain": [
       "array([1.        , 1.05263158, 1.10526316, 1.15789474, 1.21052632,\n",
       "       1.26315789, 1.31578947, 1.36842105, 1.42105263, 1.47368421,\n",
       "       1.52631579, 1.57894737, 1.63157895, 1.68421053, 1.73684211,\n",
       "       1.78947368, 1.84210526, 1.89473684, 1.94736842, 2.        ])"
      ]
     },
     "execution_count": 33,
     "metadata": {},
     "output_type": "execute_result"
    }
   ],
   "source": [
    "array7"
   ]
  },
  {
   "cell_type": "markdown",
   "id": "23e494a6",
   "metadata": {},
   "source": [
    "# INDEXING"
   ]
  },
  {
   "cell_type": "markdown",
   "id": "b5476342",
   "metadata": {},
   "source": [
    "# indexing of 1-D array"
   ]
  },
  {
   "cell_type": "code",
   "execution_count": 34,
   "id": "a96ee29c",
   "metadata": {},
   "outputs": [],
   "source": [
    "array1 = np.array([5, 6, 7, 8, 9])"
   ]
  },
  {
   "cell_type": "code",
   "execution_count": 35,
   "id": "22f273f0",
   "metadata": {},
   "outputs": [
    {
     "name": "stdout",
     "output_type": "stream",
     "text": [
      "[5 6 7 8 9]\n"
     ]
    }
   ],
   "source": [
    "print (array1)"
   ]
  },
  {
   "cell_type": "code",
   "execution_count": 36,
   "id": "acce6747",
   "metadata": {},
   "outputs": [
    {
     "data": {
      "text/plain": [
       "5"
      ]
     },
     "execution_count": 36,
     "metadata": {},
     "output_type": "execute_result"
    }
   ],
   "source": [
    "array1[0]          # accessinng the FIRST element of the array using the 'INDEX VALUE'"
   ]
  },
  {
   "cell_type": "code",
   "execution_count": 37,
   "id": "e7aaa98a",
   "metadata": {},
   "outputs": [
    {
     "data": {
      "text/plain": [
       "9"
      ]
     },
     "execution_count": 37,
     "metadata": {},
     "output_type": "execute_result"
    }
   ],
   "source": [
    "array1[4]          # accessinng the LAST element of the array using the 'INDEX VALUE'"
   ]
  },
  {
   "cell_type": "code",
   "execution_count": 38,
   "id": "83fad585",
   "metadata": {},
   "outputs": [
    {
     "data": {
      "text/plain": [
       "9"
      ]
     },
     "execution_count": 38,
     "metadata": {},
     "output_type": "execute_result"
    }
   ],
   "source": [
    "array1[-1]         # accessinng the LAST element of the array using the 'INDEX VALUE'"
   ]
  },
  {
   "cell_type": "code",
   "execution_count": 39,
   "id": "c4462776",
   "metadata": {},
   "outputs": [
    {
     "data": {
      "text/plain": [
       "8"
      ]
     },
     "execution_count": 39,
     "metadata": {},
     "output_type": "execute_result"
    }
   ],
   "source": [
    "array1[-2]         # accessinng the SECOND LAST element of the array using the 'INDEX VALUE'"
   ]
  },
  {
   "cell_type": "markdown",
   "id": "2353cbd5",
   "metadata": {},
   "source": [
    "# indexing of 2-D array"
   ]
  },
  {
   "cell_type": "code",
   "execution_count": 40,
   "id": "59ed94bc",
   "metadata": {},
   "outputs": [],
   "source": [
    "array2 = np.random.randint(1, 10, size = (4,3)) # creating array with random integer values of a range "
   ]
  },
  {
   "cell_type": "code",
   "execution_count": 41,
   "id": "323272d0",
   "metadata": {},
   "outputs": [
    {
     "name": "stdout",
     "output_type": "stream",
     "text": [
      "[[9 3 6]\n",
      " [2 4 6]\n",
      " [2 3 6]\n",
      " [7 5 9]]\n"
     ]
    }
   ],
   "source": [
    "print (array2)"
   ]
  },
  {
   "cell_type": "code",
   "execution_count": 42,
   "id": "ad70a180",
   "metadata": {},
   "outputs": [
    {
     "data": {
      "text/plain": [
       "9"
      ]
     },
     "execution_count": 42,
     "metadata": {},
     "output_type": "execute_result"
    }
   ],
   "source": [
    "array2[0,0]         # accessing the FIRST element of a 2-D array        # [row index, column index]"
   ]
  },
  {
   "cell_type": "code",
   "execution_count": 43,
   "id": "93870777",
   "metadata": {},
   "outputs": [
    {
     "data": {
      "text/plain": [
       "3"
      ]
     },
     "execution_count": 43,
     "metadata": {},
     "output_type": "execute_result"
    }
   ],
   "source": [
    "array2[2,1]         # accessing the SECOND element of the THIRD row"
   ]
  },
  {
   "cell_type": "markdown",
   "id": "867a2aa6",
   "metadata": {},
   "source": [
    "# indexing of 3-D array"
   ]
  },
  {
   "cell_type": "code",
   "execution_count": 44,
   "id": "5012ee7e",
   "metadata": {},
   "outputs": [],
   "source": [
    "array3 = np.random.randint(1, 10, size = (2,3,3))"
   ]
  },
  {
   "cell_type": "code",
   "execution_count": 45,
   "id": "90f880d2",
   "metadata": {},
   "outputs": [
    {
     "name": "stdout",
     "output_type": "stream",
     "text": [
      "[[[1 8 1]\n",
      "  [9 7 8]\n",
      "  [8 9 1]]\n",
      "\n",
      " [[6 4 3]\n",
      "  [3 3 2]\n",
      "  [7 3 1]]]\n"
     ]
    }
   ],
   "source": [
    "print (array3)"
   ]
  },
  {
   "cell_type": "code",
   "execution_count": 46,
   "id": "7c7cc3b8",
   "metadata": {},
   "outputs": [
    {
     "data": {
      "text/plain": [
       "7"
      ]
     },
     "execution_count": 46,
     "metadata": {},
     "output_type": "execute_result"
    }
   ],
   "source": [
    "array3[0,1,1]             # accessing the 8 of SECOND ROW of the SECOND COLUMN"
   ]
  },
  {
   "cell_type": "code",
   "execution_count": 47,
   "id": "d97d2447",
   "metadata": {},
   "outputs": [
    {
     "data": {
      "text/plain": [
       "2"
      ]
     },
     "execution_count": 47,
     "metadata": {},
     "output_type": "execute_result"
    }
   ],
   "source": [
    "array3[1,1,2]             # accessing the 3 of FIFTH ROW of the THIRD COLUMN"
   ]
  },
  {
   "cell_type": "markdown",
   "id": "0c24e759",
   "metadata": {},
   "source": [
    "# SLICING"
   ]
  },
  {
   "cell_type": "markdown",
   "id": "fb0d3d38",
   "metadata": {},
   "source": [
    "# slicing of 1-D array"
   ]
  },
  {
   "cell_type": "code",
   "execution_count": 48,
   "id": "30c18b08",
   "metadata": {},
   "outputs": [],
   "source": [
    "array1 = np.array([9, 8, 7, 6, 5, 4])"
   ]
  },
  {
   "cell_type": "code",
   "execution_count": 49,
   "id": "bacfe903",
   "metadata": {},
   "outputs": [
    {
     "name": "stdout",
     "output_type": "stream",
     "text": [
      "[9 8 7 6 5 4]\n"
     ]
    }
   ],
   "source": [
    "print (array1)            # array1"
   ]
  },
  {
   "cell_type": "code",
   "execution_count": 50,
   "id": "ab79c4e4",
   "metadata": {},
   "outputs": [
    {
     "data": {
      "text/plain": [
       "array([9, 8, 7])"
      ]
     },
     "execution_count": 50,
     "metadata": {},
     "output_type": "execute_result"
    }
   ],
   "source": [
    "array1[:3]                # slicing the array from STARTING through MIDWAY using the INDEX VALUE"
   ]
  },
  {
   "cell_type": "code",
   "execution_count": 51,
   "id": "65f79475",
   "metadata": {},
   "outputs": [
    {
     "name": "stdout",
     "output_type": "stream",
     "text": [
      "[9 8 7 6 5 4]\n"
     ]
    }
   ],
   "source": [
    "print (array1)            # array1"
   ]
  },
  {
   "cell_type": "code",
   "execution_count": 52,
   "id": "01032898",
   "metadata": {},
   "outputs": [
    {
     "data": {
      "text/plain": [
       "array([8, 7, 6])"
      ]
     },
     "execution_count": 52,
     "metadata": {},
     "output_type": "execute_result"
    }
   ],
   "source": [
    "array1[1:4]               # slicing the array from 8 to 6 using the INDEX VALUE"
   ]
  },
  {
   "cell_type": "markdown",
   "id": "d734211c",
   "metadata": {},
   "source": [
    "# slicing of 2-D array"
   ]
  },
  {
   "cell_type": "code",
   "execution_count": 53,
   "id": "b88d3626",
   "metadata": {},
   "outputs": [],
   "source": [
    "array2 = np.random.randint(1, 10, size = (4,3))"
   ]
  },
  {
   "cell_type": "code",
   "execution_count": 54,
   "id": "f146434d",
   "metadata": {},
   "outputs": [
    {
     "name": "stdout",
     "output_type": "stream",
     "text": [
      "[[2 6 7]\n",
      " [8 3 7]\n",
      " [6 8 5]\n",
      " [5 3 3]]\n"
     ]
    }
   ],
   "source": [
    "print(array2)              # this is a 4 X 3 (read : 4 by 3) MATRIX   "
   ]
  },
  {
   "cell_type": "code",
   "execution_count": 55,
   "id": "51ea013c",
   "metadata": {},
   "outputs": [
    {
     "data": {
      "text/plain": [
       "array([[2, 6, 7],\n",
       "       [8, 3, 7]])"
      ]
     },
     "execution_count": 55,
     "metadata": {},
     "output_type": "execute_result"
    }
   ],
   "source": [
    "array2[0:2]                # slicing for FIRST TWO ROW only    # converting to a 2 x 3 MATRIX"
   ]
  },
  {
   "cell_type": "code",
   "execution_count": 56,
   "id": "23469de7",
   "metadata": {},
   "outputs": [
    {
     "data": {
      "text/plain": [
       "array([[2, 6],\n",
       "       [8, 3]])"
      ]
     },
     "execution_count": 56,
     "metadata": {},
     "output_type": "execute_result"
    }
   ],
   "source": [
    "array2[0:2, 0:2]           # slicing for FIRST TWO value of the FIRST TWO ROW only "
   ]
  },
  {
   "cell_type": "code",
   "execution_count": 57,
   "id": "1d7a14f4",
   "metadata": {},
   "outputs": [
    {
     "data": {
      "text/plain": [
       "array([[3, 7],\n",
       "       [8, 5],\n",
       "       [3, 3]])"
      ]
     },
     "execution_count": 57,
     "metadata": {},
     "output_type": "execute_result"
    }
   ],
   "source": [
    "array2[1:, 1:]         "
   ]
  },
  {
   "cell_type": "markdown",
   "id": "38c3ff46",
   "metadata": {},
   "source": [
    "# Manipulating Array Shape"
   ]
  },
  {
   "cell_type": "markdown",
   "id": "206f50ca",
   "metadata": {},
   "source": [
    "# reshape ( )"
   ]
  },
  {
   "cell_type": "code",
   "execution_count": 58,
   "id": "51887a76",
   "metadata": {},
   "outputs": [],
   "source": [
    "arr = np.array([[1, 2, 3],\n",
    "               [3, 4, 5]])"
   ]
  },
  {
   "cell_type": "code",
   "execution_count": 59,
   "id": "c9a07dcb",
   "metadata": {},
   "outputs": [
    {
     "data": {
      "text/plain": [
       "array([[1, 2, 3],\n",
       "       [3, 4, 5]])"
      ]
     },
     "execution_count": 59,
     "metadata": {},
     "output_type": "execute_result"
    }
   ],
   "source": [
    "arr"
   ]
  },
  {
   "cell_type": "code",
   "execution_count": 60,
   "id": "eaea61ed",
   "metadata": {},
   "outputs": [
    {
     "data": {
      "text/plain": [
       "(2, 3)"
      ]
     },
     "execution_count": 60,
     "metadata": {},
     "output_type": "execute_result"
    }
   ],
   "source": [
    "arr.shape                  # checking the original shape of the array"
   ]
  },
  {
   "cell_type": "code",
   "execution_count": 61,
   "id": "9e26362f",
   "metadata": {},
   "outputs": [],
   "source": [
    "arr_reshaped = np.reshape(arr, (3,2))             # changing the original shape of the array"
   ]
  },
  {
   "cell_type": "code",
   "execution_count": 62,
   "id": "6404762f",
   "metadata": {},
   "outputs": [
    {
     "data": {
      "text/plain": [
       "array([[1, 2],\n",
       "       [3, 3],\n",
       "       [4, 5]])"
      ]
     },
     "execution_count": 62,
     "metadata": {},
     "output_type": "execute_result"
    }
   ],
   "source": [
    "arr_reshaped"
   ]
  },
  {
   "cell_type": "code",
   "execution_count": 63,
   "id": "5d159673",
   "metadata": {},
   "outputs": [
    {
     "data": {
      "text/plain": [
       "(3, 2)"
      ]
     },
     "execution_count": 63,
     "metadata": {},
     "output_type": "execute_result"
    }
   ],
   "source": [
    "arr_reshaped.shape         # checking the changed shape "
   ]
  },
  {
   "cell_type": "markdown",
   "id": "4868f3bb",
   "metadata": {},
   "source": [
    "# resize ( )"
   ]
  },
  {
   "cell_type": "code",
   "execution_count": 64,
   "id": "f22bf37b",
   "metadata": {},
   "outputs": [],
   "source": [
    "br = np.array ([[3, 4, 5, 6],\n",
    "               [1, 7, 8, 9]])"
   ]
  },
  {
   "cell_type": "code",
   "execution_count": 65,
   "id": "2c7feef4",
   "metadata": {},
   "outputs": [
    {
     "data": {
      "text/plain": [
       "array([[3, 4, 5, 6],\n",
       "       [1, 7, 8, 9]])"
      ]
     },
     "execution_count": 65,
     "metadata": {},
     "output_type": "execute_result"
    }
   ],
   "source": [
    "br                                      # 2 x 4 array"
   ]
  },
  {
   "cell_type": "code",
   "execution_count": 66,
   "id": "d1a513f0",
   "metadata": {},
   "outputs": [],
   "source": [
    "br_resized = np.resize (br, (4,4))"
   ]
  },
  {
   "cell_type": "code",
   "execution_count": 67,
   "id": "4768fcf4",
   "metadata": {},
   "outputs": [
    {
     "data": {
      "text/plain": [
       "array([[3, 4, 5, 6],\n",
       "       [1, 7, 8, 9],\n",
       "       [3, 4, 5, 6],\n",
       "       [1, 7, 8, 9]])"
      ]
     },
     "execution_count": 67,
     "metadata": {},
     "output_type": "execute_result"
    }
   ],
   "source": [
    "br_resized                 # resize method REPEATS the elements of the array to maintain the shape "
   ]
  },
  {
   "cell_type": "markdown",
   "id": "3d4081a4",
   "metadata": {},
   "source": [
    "# ravel ( )"
   ]
  },
  {
   "cell_type": "markdown",
   "id": "063ecace",
   "metadata": {},
   "source": [
    "## this function converts any other dimensional (2-D, 3-D, etc.) array into a 1-D array and return a view of the original array"
   ]
  },
  {
   "cell_type": "code",
   "execution_count": 68,
   "id": "17ca72c6",
   "metadata": {},
   "outputs": [],
   "source": [
    "cr = np.random.randint (1, 6, (2, 3))"
   ]
  },
  {
   "cell_type": "code",
   "execution_count": 69,
   "id": "ac14d384",
   "metadata": {},
   "outputs": [
    {
     "data": {
      "text/plain": [
       "array([[1, 2, 2],\n",
       "       [5, 3, 2]])"
      ]
     },
     "execution_count": 69,
     "metadata": {},
     "output_type": "execute_result"
    }
   ],
   "source": [
    "cr"
   ]
  },
  {
   "cell_type": "code",
   "execution_count": 70,
   "id": "a141bbdb",
   "metadata": {},
   "outputs": [],
   "source": [
    "cr_raveled = np.ravel(cr)"
   ]
  },
  {
   "cell_type": "code",
   "execution_count": 71,
   "id": "6e20ffa7",
   "metadata": {},
   "outputs": [
    {
     "data": {
      "text/plain": [
       "array([1, 2, 2, 5, 3, 2])"
      ]
     },
     "execution_count": 71,
     "metadata": {},
     "output_type": "execute_result"
    }
   ],
   "source": [
    "cr_raveled"
   ]
  },
  {
   "cell_type": "markdown",
   "id": "d8aac807",
   "metadata": {},
   "source": [
    "# flatten ( )"
   ]
  },
  {
   "cell_type": "markdown",
   "id": "082d4a64",
   "metadata": {},
   "source": [
    "## this function converts any other dimensional (2-D, 3-D, etc.) array into a 1-D array and return a copy of the original array and allocates a new memory"
   ]
  },
  {
   "cell_type": "code",
   "execution_count": 72,
   "id": "a3c9ef40",
   "metadata": {},
   "outputs": [],
   "source": [
    "dr = np.random.randint (1, 6, (3, 4))"
   ]
  },
  {
   "cell_type": "code",
   "execution_count": 73,
   "id": "e52afe7b",
   "metadata": {},
   "outputs": [
    {
     "data": {
      "text/plain": [
       "array([[5, 5, 3, 1],\n",
       "       [2, 2, 2, 3],\n",
       "       [1, 5, 1, 2]])"
      ]
     },
     "execution_count": 73,
     "metadata": {},
     "output_type": "execute_result"
    }
   ],
   "source": [
    "dr"
   ]
  },
  {
   "cell_type": "code",
   "execution_count": 74,
   "id": "346e73ed",
   "metadata": {},
   "outputs": [],
   "source": [
    "dr_flattened = dr.flatten()"
   ]
  },
  {
   "cell_type": "code",
   "execution_count": 75,
   "id": "b955ffbd",
   "metadata": {},
   "outputs": [
    {
     "data": {
      "text/plain": [
       "array([5, 5, 3, 1, 2, 2, 2, 3, 1, 5, 1, 2])"
      ]
     },
     "execution_count": 75,
     "metadata": {},
     "output_type": "execute_result"
    }
   ],
   "source": [
    "dr_flattened"
   ]
  },
  {
   "cell_type": "markdown",
   "id": "6f40396f",
   "metadata": {},
   "source": [
    "# defining an array shape"
   ]
  },
  {
   "cell_type": "markdown",
   "id": "cdbeb6a4",
   "metadata": {},
   "source": [
    "## providing a new shape to change an existing shape"
   ]
  },
  {
   "cell_type": "code",
   "execution_count": 76,
   "id": "861c66cf",
   "metadata": {},
   "outputs": [],
   "source": [
    "ar = np.array([[2, 3, 4], [5, 6, 7]])"
   ]
  },
  {
   "cell_type": "code",
   "execution_count": 77,
   "id": "95e848c4",
   "metadata": {},
   "outputs": [
    {
     "data": {
      "text/plain": [
       "array([[1, 2, 3],\n",
       "       [3, 4, 5]])"
      ]
     },
     "execution_count": 77,
     "metadata": {},
     "output_type": "execute_result"
    }
   ],
   "source": [
    "arr"
   ]
  },
  {
   "cell_type": "code",
   "execution_count": 78,
   "id": "3ebe2bef",
   "metadata": {},
   "outputs": [
    {
     "data": {
      "text/plain": [
       "(2, 3)"
      ]
     },
     "execution_count": 78,
     "metadata": {},
     "output_type": "execute_result"
    }
   ],
   "source": [
    "arr.shape                 # checking the existing shape"
   ]
  },
  {
   "cell_type": "code",
   "execution_count": 79,
   "id": "3d7529c2",
   "metadata": {},
   "outputs": [],
   "source": [
    "arr.shape = (3, 2)        # defining a new shape"
   ]
  },
  {
   "cell_type": "code",
   "execution_count": 80,
   "id": "fafa95d2",
   "metadata": {},
   "outputs": [
    {
     "data": {
      "text/plain": [
       "array([[1, 2],\n",
       "       [3, 3],\n",
       "       [4, 5]])"
      ]
     },
     "execution_count": 80,
     "metadata": {},
     "output_type": "execute_result"
    }
   ],
   "source": [
    "arr"
   ]
  },
  {
   "cell_type": "markdown",
   "id": "f489c93b",
   "metadata": {},
   "source": [
    "# Stacking "
   ]
  },
  {
   "cell_type": "markdown",
   "id": "32fb67ff",
   "metadata": {},
   "source": [
    "## Horizontal stacking "
   ]
  },
  {
   "cell_type": "markdown",
   "id": "6b77d3c8",
   "metadata": {},
   "source": [
    "### hstack and column_stack do the same thing "
   ]
  },
  {
   "cell_type": "code",
   "execution_count": 81,
   "id": "9a410d04",
   "metadata": {},
   "outputs": [],
   "source": [
    "a = np.array([[1, 2, 3], [4, 5, 6], [7, 8, 9]])"
   ]
  },
  {
   "cell_type": "code",
   "execution_count": 82,
   "id": "c50d8812",
   "metadata": {},
   "outputs": [
    {
     "data": {
      "text/plain": [
       "array([[1, 2, 3],\n",
       "       [4, 5, 6],\n",
       "       [7, 8, 9]])"
      ]
     },
     "execution_count": 82,
     "metadata": {},
     "output_type": "execute_result"
    }
   ],
   "source": [
    "a                                # Array-'a'"
   ]
  },
  {
   "cell_type": "code",
   "execution_count": 83,
   "id": "576512d9",
   "metadata": {},
   "outputs": [],
   "source": [
    "b = 2*a                                         # multiplying the Array-'a' by 2 to create a new array"
   ]
  },
  {
   "cell_type": "code",
   "execution_count": 84,
   "id": "4281818a",
   "metadata": {},
   "outputs": [
    {
     "data": {
      "text/plain": [
       "array([[ 2,  4,  6],\n",
       "       [ 8, 10, 12],\n",
       "       [14, 16, 18]])"
      ]
     },
     "execution_count": 84,
     "metadata": {},
     "output_type": "execute_result"
    }
   ],
   "source": [
    "b                                # Array-'b'"
   ]
  },
  {
   "cell_type": "code",
   "execution_count": 85,
   "id": "dbe6f6a2",
   "metadata": {},
   "outputs": [],
   "source": [
    "c = np.hstack((a,b))"
   ]
  },
  {
   "cell_type": "code",
   "execution_count": 86,
   "id": "3e71a09f",
   "metadata": {},
   "outputs": [
    {
     "data": {
      "text/plain": [
       "array([[ 1,  2,  3,  2,  4,  6],\n",
       "       [ 4,  5,  6,  8, 10, 12],\n",
       "       [ 7,  8,  9, 14, 16, 18]])"
      ]
     },
     "execution_count": 86,
     "metadata": {},
     "output_type": "execute_result"
    }
   ],
   "source": [
    "c                                       # 'a' and 'b' h-stacked  "
   ]
  },
  {
   "cell_type": "code",
   "execution_count": 87,
   "id": "5901d0cd",
   "metadata": {},
   "outputs": [],
   "source": [
    "c2 = np.column_stack((a,b))             # 'a' and 'b' column-stacked"
   ]
  },
  {
   "cell_type": "code",
   "execution_count": 88,
   "id": "1ce4795c",
   "metadata": {},
   "outputs": [
    {
     "data": {
      "text/plain": [
       "array([[ 1,  2,  3,  2,  4,  6],\n",
       "       [ 4,  5,  6,  8, 10, 12],\n",
       "       [ 7,  8,  9, 14, 16, 18]])"
      ]
     },
     "execution_count": 88,
     "metadata": {},
     "output_type": "execute_result"
    }
   ],
   "source": [
    "c2"
   ]
  },
  {
   "cell_type": "code",
   "execution_count": 89,
   "id": "d10b1288",
   "metadata": {},
   "outputs": [],
   "source": [
    "c3 = np.concatenate((a,b), axis = 1)    # horizontal stacking by concatenate function"
   ]
  },
  {
   "cell_type": "code",
   "execution_count": 90,
   "id": "a36512bf",
   "metadata": {},
   "outputs": [
    {
     "data": {
      "text/plain": [
       "array([[ 1,  2,  3,  2,  4,  6],\n",
       "       [ 4,  5,  6,  8, 10, 12],\n",
       "       [ 7,  8,  9, 14, 16, 18]])"
      ]
     },
     "execution_count": 90,
     "metadata": {},
     "output_type": "execute_result"
    }
   ],
   "source": [
    "c3"
   ]
  },
  {
   "cell_type": "markdown",
   "id": "3be78bc2",
   "metadata": {},
   "source": [
    "## Vertical stacking "
   ]
  },
  {
   "cell_type": "markdown",
   "id": "bf1fd1a9",
   "metadata": {},
   "source": [
    "### vstack and row_stack do the same thing "
   ]
  },
  {
   "cell_type": "code",
   "execution_count": 91,
   "id": "253cc364",
   "metadata": {},
   "outputs": [],
   "source": [
    "c4 = np.vstack((a, b))                      # 'a' and 'b' v-stacked"
   ]
  },
  {
   "cell_type": "code",
   "execution_count": 92,
   "id": "6f0b04f6",
   "metadata": {},
   "outputs": [
    {
     "data": {
      "text/plain": [
       "array([[ 1,  2,  3],\n",
       "       [ 4,  5,  6],\n",
       "       [ 7,  8,  9],\n",
       "       [ 2,  4,  6],\n",
       "       [ 8, 10, 12],\n",
       "       [14, 16, 18]])"
      ]
     },
     "execution_count": 92,
     "metadata": {},
     "output_type": "execute_result"
    }
   ],
   "source": [
    "c4"
   ]
  },
  {
   "cell_type": "code",
   "execution_count": 93,
   "id": "c8cdbb10",
   "metadata": {},
   "outputs": [],
   "source": [
    "c5 = np.row_stack((a, b))                   # 'a' and 'b' row-stacked"
   ]
  },
  {
   "cell_type": "code",
   "execution_count": 94,
   "id": "2d821d3c",
   "metadata": {},
   "outputs": [
    {
     "data": {
      "text/plain": [
       "array([[ 1,  2,  3],\n",
       "       [ 4,  5,  6],\n",
       "       [ 7,  8,  9],\n",
       "       [ 2,  4,  6],\n",
       "       [ 8, 10, 12],\n",
       "       [14, 16, 18]])"
      ]
     },
     "execution_count": 94,
     "metadata": {},
     "output_type": "execute_result"
    }
   ],
   "source": [
    "c5"
   ]
  },
  {
   "cell_type": "code",
   "execution_count": 95,
   "id": "c8b25c76",
   "metadata": {},
   "outputs": [],
   "source": [
    "c6 = np.concatenate((a,b), axis = 0)        # vertical stacking by concatenate function"
   ]
  },
  {
   "cell_type": "code",
   "execution_count": 96,
   "id": "91abb30f",
   "metadata": {},
   "outputs": [
    {
     "data": {
      "text/plain": [
       "array([[ 1,  2,  3],\n",
       "       [ 4,  5,  6],\n",
       "       [ 7,  8,  9],\n",
       "       [ 2,  4,  6],\n",
       "       [ 8, 10, 12],\n",
       "       [14, 16, 18]])"
      ]
     },
     "execution_count": 96,
     "metadata": {},
     "output_type": "execute_result"
    }
   ],
   "source": [
    "c6"
   ]
  },
  {
   "cell_type": "markdown",
   "id": "2edd5ab8",
   "metadata": {},
   "source": [
    "# Depth stacking "
   ]
  },
  {
   "cell_type": "code",
   "execution_count": 97,
   "id": "a29fc1aa",
   "metadata": {},
   "outputs": [],
   "source": [
    "c7 = np.dstack((a, b))"
   ]
  },
  {
   "cell_type": "code",
   "execution_count": 98,
   "id": "dda5dbc6",
   "metadata": {},
   "outputs": [
    {
     "data": {
      "text/plain": [
       "array([[[ 1,  2],\n",
       "        [ 2,  4],\n",
       "        [ 3,  6]],\n",
       "\n",
       "       [[ 4,  8],\n",
       "        [ 5, 10],\n",
       "        [ 6, 12]],\n",
       "\n",
       "       [[ 7, 14],\n",
       "        [ 8, 16],\n",
       "        [ 9, 18]]])"
      ]
     },
     "execution_count": 98,
     "metadata": {},
     "output_type": "execute_result"
    }
   ],
   "source": [
    "c7                                          # 'a' and 'b' depth-stacked"
   ]
  }
 ],
 "metadata": {
  "kernelspec": {
   "display_name": "Python 3 (ipykernel)",
   "language": "python",
   "name": "python3"
  },
  "language_info": {
   "codemirror_mode": {
    "name": "ipython",
    "version": 3
   },
   "file_extension": ".py",
   "mimetype": "text/x-python",
   "name": "python",
   "nbconvert_exporter": "python",
   "pygments_lexer": "ipython3",
   "version": "3.9.12"
  }
 },
 "nbformat": 4,
 "nbformat_minor": 5
}
